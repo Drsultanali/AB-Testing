{
 "cells": [
  {
   "cell_type": "code",
   "execution_count": 84,
   "metadata": {},
   "outputs": [],
   "source": [
    "import ipywidgets as widgets\n",
    "from IPython.display import display\n",
    "import pandas as pd"
   ]
  },
  {
   "cell_type": "code",
   "execution_count": 85,
   "metadata": {},
   "outputs": [],
   "source": [
    "# Load the response.csv file and ensure columns are correctly named\n",
    "df = pd.read_csv(\"responses.csv\")\n",
    "\n",
    "# Ensure the 'variant' column is of type string and no NaN values\n",
    "df['variant'] = df['variant'].fillna('').astype(str)\n",
    "\n",
    "# Shuffle the dataframe, keeping 'response' and 'variant' in sync\n",
    "df = df.sample(frac=1).reset_index(drop=True)\n",
    "\n",
    "# Add a new column to store feedback if not already present\n",
    "if 'feedback' not in df.columns:\n",
    "    df['feedback'] = pd.Series(dtype='float')\n",
    "\n",
    "# Initialize response index\n",
    "response_index = 0"
   ]
  },
  {
   "cell_type": "code",
   "execution_count": 86,
   "metadata": {},
   "outputs": [],
   "source": [
    "from main import update_response\n",
    "\n",
    "\n",
    "def on_button_clicked(b):\n",
    "    global response_index\n",
    "    # Convert thumbs up / down to 1 / 0\n",
    "    user_feedback = 1 if b.description == \"\\U0001F44D\" else 0\n",
    "    \n",
    "    # Check if the index is within the bounds\n",
    "    if response_index < len(df):\n",
    "        # Update the feedback column\n",
    "        df.at[response_index, 'feedback'] = user_feedback\n",
    "        print(f\"Feedback recorded for index {response_index}: {user_feedback}\")\n",
    "\n",
    "        response_index += 1\n",
    "\n",
    "        if response_index < len(df):\n",
    "            update_response()\n",
    "        else:\n",
    "            # Save the feedback to a CSV file\n",
    "            df.to_csv(\"results.csv\", index=False)\n",
    "            print(\"A/B testing completed. Here's the results:\")\n",
    "            print(df[['response', 'variant', 'feedback']])  # Print the DataFrame to verify\n",
    "            if 'variant' in df.columns:\n",
    "                summary_df = df.groupby('variant').agg(\n",
    "                    count=('feedback', 'count'),\n",
    "                    score=('feedback', 'mean')).reset_index()\n",
    "                print(summary_df)\n",
    "            else:\n",
    "                print(\"No 'variant' column found to group results.\")\n",
    "    else:\n",
    "        print(\"Error: Index out of bounds.\")"
   ]
  },
  {
   "cell_type": "code",
   "execution_count": 87,
   "metadata": {},
   "outputs": [
    {
     "data": {
      "application/vnd.jupyter.widget-view+json": {
       "model_id": "08d8d24bb07d4ddbb17d2c6258b36dab",
       "version_major": 2,
       "version_minor": 0
      },
      "text/plain": [
       "HTML(value='')"
      ]
     },
     "metadata": {},
     "output_type": "display_data"
    },
    {
     "data": {
      "application/vnd.jupyter.widget-view+json": {
       "model_id": "ccd53a429be940d4ab9ef529bbf66067",
       "version_major": 2,
       "version_minor": 0
      },
      "text/plain": [
       "HBox(children=(Button(description='👎', style=ButtonStyle()), Button(description='👍', style=ButtonStyle())))"
      ]
     },
     "metadata": {},
     "output_type": "display_data"
    },
    {
     "data": {
      "application/vnd.jupyter.widget-view+json": {
       "model_id": "a21a5a46a74d42acbd221e46c79b20f3",
       "version_major": 2,
       "version_minor": 0
      },
      "text/plain": [
       "Label(value='')"
      ]
     },
     "metadata": {},
     "output_type": "display_data"
    },
    {
     "name": "stdout",
     "output_type": "stream",
     "text": [
      "Feedback recorded for index 0: 1\n",
      "Feedback recorded for index 1: 1\n",
      "Feedback recorded for index 2: 0\n",
      "Feedback recorded for index 3: 0\n",
      "Feedback recorded for index 4: 1\n",
      "Feedback recorded for index 5: 1\n",
      "Feedback recorded for index 6: 0\n",
      "Feedback recorded for index 7: 1\n",
      "Feedback recorded for index 8: 1\n",
      "Feedback recorded for index 9: 1\n",
      "A/B testing completed. Here's the results:\n",
      "                                            response variant  feedback\n",
      "0                  Would you purchase from us again?       A       1.0\n",
      "1           How easy was it to navigate our website?       B       1.0\n",
      "2  How would you rate the value for money of our ...       B       0.0\n",
      "3  How satisfied are you with the range of produc...       B       0.0\n",
      "4  How clear and accurate was the product descrip...       A       1.0\n",
      "5            Did the product meet your expectations?       A       1.0\n",
      "6                  Was the product delivery on time?       A       0.0\n",
      "7  How likely are you to recommend our product to...       B       1.0\n",
      "8  How do you rate the overall quality of our ser...       A       1.0\n",
      "9  How satisfied are you with the customer suppor...       B       1.0\n",
      "  variant  count  score\n",
      "0       A      5    0.8\n",
      "1       B      5    0.6\n"
     ]
    }
   ],
   "source": [
    "from urllib import response\n",
    "\n",
    "\n",
    "def update_response():\n",
    "    global response_index\n",
    "    if response_index < len(df):\n",
    "        new_response = df.iloc[response_index]['response']\n",
    "        prompt = \"<h2>Please review the following response and provide your feedback:</h2> \"\n",
    "        response.value = f\"{prompt}<p>{new_response}</p>\"\n",
    "        count_label.value = f\"Response: {response_index + 1}/{len(df)}\"\n",
    "    else:\n",
    "        response.value = \"<p>No more responses.</p>\"\n",
    "        count_label.value = \"\"\n",
    "        \n",
    "# Create widgets\n",
    "response = widgets.HTML()\n",
    "count_label = widgets.Label()\n",
    "thumbs_up_button = widgets.Button(description='\\U0001F44D')\n",
    "thumbs_down_button = widgets.Button(description='\\U0001F44E')\n",
    "\n",
    "# Connect buttons to callback\n",
    "thumbs_up_button.on_click(on_button_clicked)\n",
    "thumbs_down_button.on_click(on_button_clicked)\n",
    "\n",
    "# Display widgets\n",
    "button_box = widgets.HBox([thumbs_down_button, thumbs_up_button])\n",
    "display(response, button_box, count_label)\n",
    "update_response()"
   ]
  }
 ],
 "metadata": {
  "kernelspec": {
   "display_name": "venv",
   "language": "python",
   "name": "python3"
  },
  "language_info": {
   "codemirror_mode": {
    "name": "ipython",
    "version": 3
   },
   "file_extension": ".py",
   "mimetype": "text/x-python",
   "name": "python",
   "nbconvert_exporter": "python",
   "pygments_lexer": "ipython3",
   "version": "3.12.2"
  }
 },
 "nbformat": 4,
 "nbformat_minor": 2
}
